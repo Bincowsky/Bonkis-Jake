{
 "cells": [
  {
   "cell_type": "code",
   "execution_count": 1,
   "metadata": {},
   "outputs": [],
   "source": [
    "import pandas as pd\n",
    "import numpy as np\n",
    "from sklearn.preprocessing import StandardScaler, OneHotEncoder\n",
    "import xgboost as xgb\n",
    "from sklearn.cluster import KMeans\n",
    "import matplotlib.pyplot as plt\n",
    "import seaborn as sns\n",
    "from sklearn.metrics import silhouette_score\n",
    "from sklearn.metrics import pairwise_distances\n",
    "from sklearn.impute import KNNImputer\n",
    "import pandas as pd\n",
    "import numpy as np\n",
    "from sklearn.cluster import KMeans\n",
    "from sklearn.preprocessing import StandardScaler\n",
    "from sklearn.impute import KNNImputer\n",
    "from sklearn.metrics import silhouette_score, pairwise_distances\n",
    "import matplotlib.pyplot as plt\n",
    "import seaborn as sns\n",
    "import joblib\n",
    "from sklearn.compose import ColumnTransformer\n",
    "from sklearn.metrics import mean_squared_error\n",
    "from sklearn.model_selection import GridSearchCV\n",
    "from sklearn.model_selection import train_test_split\n",
    "from sklearn.pipeline import Pipeline\n",
    "from sklearn.metrics import make_scorer\n",
    "from sklearn.model_selection import KFold\n",
    "from sklearn.decomposition import PCA\n",
    "from sklearn.metrics import r2_score\n"
   ]
  },
  {
   "cell_type": "code",
   "execution_count": 2,
   "metadata": {},
   "outputs": [],
   "source": [
    "def create_market_features(df):\n",
    "    df['market_size'] = df['population'] * df['prev_perc']\n",
    "    df['affordability_index'] = df['che_pc_usd'] / df['price_month']\n",
    "    df['price_insurance_interaction'] = df['price_month'] * (1 - df['insurance_perc_che'])\n",
    "    return df"
   ]
  },
  {
   "cell_type": "code",
   "execution_count": 66,
   "metadata": {},
   "outputs": [],
   "source": [
    "train_df = pd.read_csv('../data/intermig/train_data-medianimputed.csv')\n",
    "train_df = create_market_features(train_df)\n",
    "\n",
    "train_df.replace('-1', np.nan, inplace=True)\n",
    "train_df.replace(np.float64(-1.0), np.nan, inplace=True)\n",
    "train_df['launch_date'] = pd.to_datetime(train_df['launch_date'], errors='coerce')\n",
    "train_df['date'] = pd.to_datetime(train_df['date'], errors='coerce')\n",
    "train_df = train_df.drop(columns=['ind_launch_date'])\n",
    "\n",
    "submission_df = pd.read_csv('../data/intermig/submission_data-medianimputed.csv')\n",
    "submission_df   = create_market_features(submission_df)\n",
    "submission_df.replace('-1', np.nan, inplace=True)\n",
    "submission_df.replace(np.float64(-1.0), np.nan, inplace=True)\n",
    "submission_df['launch_date'] = pd.to_datetime(submission_df['launch_date'], errors='coerce')\n",
    "submission_df['date'] = pd.to_datetime(submission_df['date'], errors='coerce')\n",
    "submission_df = submission_df.drop(columns=['ind_launch_date'])\n",
    "\n",
    "\n",
    "template_df = pd.read_csv('../data/processed/submission_template.csv')\n"
   ]
  },
  {
   "cell_type": "code",
   "execution_count": 67,
   "metadata": {},
   "outputs": [],
   "source": [
    "all_ids = train_df.cluster_nl.unique()\n",
    "rows_to_drop = []\n",
    "\n",
    "for id in all_ids:\n",
    "    sub_df = train_df[train_df.cluster_nl == id]  \n",
    "    first_date = sub_df['date'].min()  \n",
    "    cutoff_date = first_date + pd.DateOffset(months=12)  # 23 months a provar\n",
    "\n",
    "    filtered_df = sub_df[sub_df['date'] <= cutoff_date]\n",
    "    rows_to_drop.append(train_df[train_df.cluster_nl == id].index.difference(filtered_df.index))\n",
    "\n",
    "\n",
    "rows_to_drop = np.concatenate(rows_to_drop)\n",
    "train_df = train_df.drop(rows_to_drop)"
   ]
  },
  {
   "cell_type": "code",
   "execution_count": 68,
   "metadata": {},
   "outputs": [
    {
     "data": {
      "text/html": [
       "<div>\n",
       "<style scoped>\n",
       "    .dataframe tbody tr th:only-of-type {\n",
       "        vertical-align: middle;\n",
       "    }\n",
       "\n",
       "    .dataframe tbody tr th {\n",
       "        vertical-align: top;\n",
       "    }\n",
       "\n",
       "    .dataframe thead th {\n",
       "        text-align: right;\n",
       "    }\n",
       "</style>\n",
       "<table border=\"1\" class=\"dataframe\">\n",
       "  <thead>\n",
       "    <tr style=\"text-align: right;\">\n",
       "      <th></th>\n",
       "      <th>brand</th>\n",
       "      <th>che_pc_usd</th>\n",
       "      <th>che_perc_gdp</th>\n",
       "      <th>cluster_nl</th>\n",
       "      <th>corporation</th>\n",
       "      <th>country</th>\n",
       "      <th>launch_date</th>\n",
       "      <th>date</th>\n",
       "      <th>drug_id</th>\n",
       "      <th>indication</th>\n",
       "      <th>...</th>\n",
       "      <th>prev_perc</th>\n",
       "      <th>price_month</th>\n",
       "      <th>price_unit</th>\n",
       "      <th>public_perc_che</th>\n",
       "      <th>therapeutic_area</th>\n",
       "      <th>target</th>\n",
       "      <th>months_since_launch</th>\n",
       "      <th>market_size</th>\n",
       "      <th>affordability_index</th>\n",
       "      <th>price_insurance_interaction</th>\n",
       "    </tr>\n",
       "  </thead>\n",
       "  <tbody>\n",
       "    <tr>\n",
       "      <th>0</th>\n",
       "      <td>BRAND_354E</td>\n",
       "      <td>1.209114</td>\n",
       "      <td>1.665879</td>\n",
       "      <td>BRAND_354E_COUNTRY_88A3</td>\n",
       "      <td>CORP_D524</td>\n",
       "      <td>COUNTRY_88A3</td>\n",
       "      <td>2014-06-01</td>\n",
       "      <td>2014-06-01</td>\n",
       "      <td>DRUG_ID_8795</td>\n",
       "      <td>['IND_C3B6']</td>\n",
       "      <td>...</td>\n",
       "      <td>0.028367</td>\n",
       "      <td>1.006444</td>\n",
       "      <td>1.013784</td>\n",
       "      <td>1.835821</td>\n",
       "      <td>THER_AREA_980E</td>\n",
       "      <td>1.000784</td>\n",
       "      <td>0</td>\n",
       "      <td>0.028595</td>\n",
       "      <td>1.201372</td>\n",
       "      <td>-0.899090</td>\n",
       "    </tr>\n",
       "    <tr>\n",
       "      <th>1</th>\n",
       "      <td>BRAND_626D</td>\n",
       "      <td>1.296738</td>\n",
       "      <td>1.809198</td>\n",
       "      <td>BRAND_626D_COUNTRY_8B47</td>\n",
       "      <td>CORP_01C7</td>\n",
       "      <td>COUNTRY_8B47</td>\n",
       "      <td>2014-06-01</td>\n",
       "      <td>2014-06-01</td>\n",
       "      <td>DRUG_ID_E66E</td>\n",
       "      <td>['IND_1590', 'IND_ECAC']</td>\n",
       "      <td>...</td>\n",
       "      <td>0.000047</td>\n",
       "      <td>1.092357</td>\n",
       "      <td>1.626677</td>\n",
       "      <td>1.791045</td>\n",
       "      <td>THER_AREA_96D7</td>\n",
       "      <td>1.000000</td>\n",
       "      <td>0</td>\n",
       "      <td>0.000048</td>\n",
       "      <td>1.187101</td>\n",
       "      <td>-0.502484</td>\n",
       "    </tr>\n",
       "  </tbody>\n",
       "</table>\n",
       "<p>2 rows × 22 columns</p>\n",
       "</div>"
      ],
      "text/plain": [
       "        brand  che_pc_usd  che_perc_gdp               cluster_nl corporation  \\\n",
       "0  BRAND_354E    1.209114      1.665879  BRAND_354E_COUNTRY_88A3   CORP_D524   \n",
       "1  BRAND_626D    1.296738      1.809198  BRAND_626D_COUNTRY_8B47   CORP_01C7   \n",
       "\n",
       "        country launch_date       date       drug_id  \\\n",
       "0  COUNTRY_88A3  2014-06-01 2014-06-01  DRUG_ID_8795   \n",
       "1  COUNTRY_8B47  2014-06-01 2014-06-01  DRUG_ID_E66E   \n",
       "\n",
       "                 indication  ...  prev_perc  price_month  price_unit  \\\n",
       "0              ['IND_C3B6']  ...   0.028367     1.006444    1.013784   \n",
       "1  ['IND_1590', 'IND_ECAC']  ...   0.000047     1.092357    1.626677   \n",
       "\n",
       "   public_perc_che  therapeutic_area    target months_since_launch  \\\n",
       "0         1.835821    THER_AREA_980E  1.000784                   0   \n",
       "1         1.791045    THER_AREA_96D7  1.000000                   0   \n",
       "\n",
       "   market_size  affordability_index  price_insurance_interaction  \n",
       "0     0.028595             1.201372                    -0.899090  \n",
       "1     0.000048             1.187101                    -0.502484  \n",
       "\n",
       "[2 rows x 22 columns]"
      ]
     },
     "execution_count": 68,
     "metadata": {},
     "output_type": "execute_result"
    }
   ],
   "source": [
    "train_df.head(2)"
   ]
  },
  {
   "cell_type": "code",
   "execution_count": null,
   "metadata": {},
   "outputs": [
    {
     "name": "stdout",
     "output_type": "stream",
     "text": [
      "preprocess_data done\n"
     ]
    }
   ],
   "source": [
    "def preprocess_data(train_df, aggregation_features):\n",
    "    knn_imputer = KNNImputer(n_neighbors=3)\n",
    "    knn_imputer.fit(train_df[aggregation_features])  \n",
    "    complete_data_imputed = knn_imputer.transform(train_df[aggregation_features])\n",
    "    scaler = StandardScaler()\n",
    "    complete_data_scaled = scaler.fit_transform(complete_data_imputed)\n",
    "    print('preprocess_data done')\n",
    "    return knn_imputer, scaler, complete_data_scaled\n",
    "\n",
    "def evaluate_kmeans(X, max_clusters=3):\n",
    "    silhouette_scores = []\n",
    "    \n",
    "    for n_clusters in range(2, max_clusters + 1):\n",
    "        kmeans = KMeans(n_clusters=n_clusters, random_state=42)\n",
    "        kmeans.fit(X)\n",
    "        silhouette_scores.append(silhouette_score(X, kmeans.labels_)) \n",
    "    \n",
    "    optimal_clusters_silhouette = np.argmax(silhouette_scores) + 2\n",
    "    return optimal_clusters_silhouette\n",
    "\n",
    "def create_clusters(X, optimal_clusters_silhouette):\n",
    "    kmeans = KMeans(n_clusters=optimal_clusters_silhouette, random_state=42)\n",
    "    clusters = kmeans.fit_predict(X)\n",
    "    print('create_clusters finished')\n",
    "    return kmeans, clusters\n",
    "\n",
    "def preprocess_submission_data(submission_df, knn_imputer, aggregation_features):\n",
    "    submission_imputed = knn_imputer.transform(submission_df[aggregation_features])\n",
    "    submission_imputed_df = pd.DataFrame(submission_imputed, columns=aggregation_features)\n",
    "    return submission_imputed_df\n",
    "\n",
    "def assign_clusters_to_submission(submission_df, submission_imputed_df, kmeans, scaler):\n",
    "    submission_scaled = scaler.transform(submission_imputed_df)\n",
    "    distances_submission = pairwise_distances(submission_scaled, kmeans.cluster_centers_)\n",
    "    submission_df.loc[:, 'cluster'] = np.argmin(distances_submission, axis=1)\n",
    "    print('assign_clusters_to_submission finished')\n",
    "    return submission_df\n",
    "\n",
    "def process_data(train_df, submission_df, aggregation_features):\n",
    "    knn_imputer, scaler, complete_data_scaled = preprocess_data(train_df, aggregation_features)\n",
    "    optimal_clusters_silhouette = evaluate_kmeans(complete_data_scaled)\n",
    "    kmeans, complete_data_clusters = create_clusters(complete_data_scaled, optimal_clusters_silhouette)\n",
    "    train_df['cluster'] = complete_data_clusters\n",
    "    submission_imputed_df = preprocess_submission_data(submission_df, knn_imputer, aggregation_features)\n",
    "    submission_with_clusters = assign_clusters_to_submission(submission_df, submission_imputed_df, kmeans, scaler)\n",
    "    print('process data finished')\n",
    "    return train_df, submission_with_clusters, kmeans\n",
    "\n",
    "\n",
    "\n",
    "aggregation_features = train_df.select_dtypes(include=['number']).columns.tolist()\n",
    "train_df_with_clusters, submission_df_with_clusters, kmeans_model = process_data(train_df, submission_df, aggregation_features)"
   ]
  },
  {
   "cell_type": "code",
   "execution_count": 6,
   "metadata": {},
   "outputs": [
    {
     "data": {
      "image/png": "[encoded data removed]",
      "text/plain": [
       "<Figure size 800x600 with 2 Axes>"
      ]
     },
     "metadata": {},
     "output_type": "display_data"
    }
   ],
   "source": [
    "from sklearn.metrics import pairwise_distances\n",
    "kmeans_model.cluster_centers_\n",
    "# Get centroids\n",
    "centroids = kmeans_model.cluster_centers_\n",
    "\n",
    "# Calculate pairwise distances between centroids\n",
    "distances = pairwise_distances(centroids, metric='euclidean')\n",
    "\n",
    "# Plotting the heatmap\n",
    "plt.figure(figsize=(8, 6))\n",
    "sns.heatmap(distances, annot=True, cmap='coolwarm', xticklabels=np.arange(1, len(centroids)+1),\n",
    "            yticklabels=np.arange(1, len(centroids)+1), fmt='.2f')\n",
    "plt.title('Pairwise Euclidean Distances Among Cluster Centroids')\n",
    "plt.xlabel('Cluster')\n",
    "plt.ylabel('Cluster')\n",
    "plt.show()"
   ]
  },
  {
   "cell_type": "code",
   "execution_count": 8,
   "metadata": {},
   "outputs": [
    {
     "name": "stdout",
     "output_type": "stream",
     "text": [
      "Counts of each value:\n",
      "cluster\n",
      "1    1005\n",
      "3     999\n",
      "0     587\n",
      "2     124\n",
      "4       1\n",
      "Name: count, dtype: int64\n",
      "\n",
      "Top 4 most repeated values:\n",
      "[1 3 0 2]\n"
     ]
    }
   ],
   "source": [
    "unique_values_df = train_df_with_clusters.drop_duplicates(subset='cluster_nl', keep='first')\n",
    "value_counts = unique_values_df.cluster.value_counts()\n",
    "top_4_values = value_counts.nlargest(4).index.to_numpy()\n",
    "print(\"Counts of each value:\")\n",
    "print(value_counts)\n",
    "print(\"\\nTop 4 most repeated values:\")\n",
    "print(top_4_values)"
   ]
  },
  {
   "cell_type": "code",
   "execution_count": 9,
   "metadata": {},
   "outputs": [],
   "source": [
    "numeric_columns = [\n",
    "    'che_pc_usd', 'che_perc_gdp', 'insurance_perc_che',\n",
    "    'population', 'prev_perc', 'price_month', 'price_unit',\n",
    "    'public_perc_che', 'market_size', 'affordability_index', \n",
    "    'price_insurance_interaction'\n",
    "]\n",
    "\n",
    "num_lags = 4 \n",
    "train_df_with_clusters_lag = train_df_with_clusters.sort_values(by=['cluster_nl', 'date'])\n",
    "\n",
    "\n",
    "for col in numeric_columns:\n",
    "    for lag in range(1, num_lags + 1):\n",
    "        train_df_with_clusters_lag[f'{col}_lag_{lag}'] = (\n",
    "            train_df_with_clusters_lag\n",
    "            .groupby('cluster_nl')[col]  \n",
    "            .shift(lag)                 \n",
    "        )"
   ]
  },
  {
   "cell_type": "code",
   "execution_count": 11,
   "metadata": {},
   "outputs": [],
   "source": [
    "train_df_s, test_df_s = train_test_split(train_df_with_clusters_lag, test_size=0.15, random_state=42)\n",
    "#train_df_s = train_df_with_clusters"
   ]
  },
  {
   "cell_type": "code",
   "execution_count": 12,
   "metadata": {},
   "outputs": [],
   "source": [
    "def preprocess_data_with_dates(train_df, target_column='target', cluster_column='cluster'):\n",
    "  \n",
    "\n",
    "    X = train_df.drop(columns=[target_column, cluster_column])\n",
    "    y = train_df[target_column]\n",
    "    date_columns = ['date', 'launch_date', 'ind_launch_date']\n",
    "    \n",
    "    for col in date_columns:\n",
    "        if col in X.columns:\n",
    "\n",
    "            X[col] = pd.to_datetime(X[col], errors='coerce')\n",
    "            \n",
    "            # Extract date features\n",
    "            X[col + '_year'] = X[col].dt.year.fillna(0).astype(int)  # Fill missing years with 0\n",
    "            X[col + '_month'] = X[col].dt.month.fillna(0).astype(int)\n",
    "            X[col + '_day'] = X[col].dt.day.fillna(0).astype(int)\n",
    "            X[col + '_dayofweek'] = X[col].dt.dayofweek.fillna(0).astype(int)\n",
    "            X[col + '_dayofyear'] = X[col].dt.dayofyear.fillna(0).astype(int)\n",
    "            X[col + '_is_month_start'] = X[col].dt.is_month_start.fillna(False).astype(int)\n",
    "            X[col + '_is_month_end'] = X[col].dt.is_month_end.fillna(False).astype(int)\n",
    "            X[col + '_is_quarter_start'] = X[col].dt.is_quarter_start.fillna(False).astype(int)\n",
    "            X[col + '_is_quarter_end'] = X[col].dt.is_quarter_end.fillna(False).astype(int)\n",
    "            X[col + '_is_year_start'] = X[col].dt.is_year_start.fillna(False).astype(int)\n",
    "            X[col + '_is_year_end'] = X[col].dt.is_year_end.fillna(False).astype(int)\n",
    "\n",
    "            X = X.drop(columns=[col])\n",
    "    \n",
    "    X = X.fillna(0) \n",
    "\n",
    "    numeric_cols = X.select_dtypes(include=['float64', 'int64']).columns.tolist()\n",
    "    categorical_cols = X.select_dtypes(include=['object']).columns.tolist()\n",
    "\n",
    "    return X, y, numeric_cols, categorical_cols"
   ]
  },
  {
   "cell_type": "code",
   "execution_count": 15,
   "metadata": {},
   "outputs": [],
   "source": [
    "def mean_absolute_percentage_error(y_true, y_pred):\n",
    "    return np.mean(np.abs((y_true - y_pred) / y_true)) * 100\n",
    "\n",
    "def train_xgboost_model(\n",
    "    name, \n",
    "    train_df, \n",
    "    target_column='target', \n",
    "    cluster_column='cluster', #revisar.\n",
    "    save_model_path='best_xgboost_model.pkl', \n",
    "    mape_scorer=''\n",
    "):\n",
    "    mape_scorer = make_scorer(mean_absolute_percentage_error, greater_is_better=False)\n",
    "    save_model_path = f'../data/models/{name}.pkl'\n",
    "    X, y, numeric_cols, categorical_cols = preprocess_data_with_dates(train_df, target_column, cluster_column)\n",
    "    preprocessor = ColumnTransformer(\n",
    "        transformers=[\n",
    "            ('num', StandardScaler(), numeric_cols),  \n",
    "            ('cat', OneHotEncoder(handle_unknown='ignore'), categorical_cols) \n",
    "        ])\n",
    "    \n",
    "    model = xgb.XGBRegressor(objective='reg:absoluteerror', random_state=42)\n",
    "    pipeline = Pipeline(steps=[('preprocessor', preprocessor), ('model', model)])\n",
    "    \n",
    "    param_grid = {\n",
    "        'model__n_estimators': [100, 500],  \n",
    "        'model__learning_rate': [0.01, 0.05], \n",
    "        'model__max_depth': [3,  10],  \n",
    "        'model__subsample': [1.0], \n",
    "        'model__colsample_bytree': [0.8, 1.0],  \n",
    "        'model__min_child_weight': [1, 5],  \n",
    "        'model__gamma': [0, 1],   \n",
    "    }\n",
    "    \n",
    "    \"\"\"\n",
    "    param_grid = {\n",
    "        'model__n_estimators': [100, 300, 500],  \n",
    "        'model__learning_rate': [0.01, 0.05, 0.1, 0.2], \n",
    "        'model__max_depth': [3, 5, 10],  \n",
    "        'model__subsample': [0.8, 1.0], \n",
    "        'model__colsample_bytree': [0.8, 1.0],  \n",
    "        'model__min_child_weight': [1, 3, 5],  \n",
    "        'model__gamma': [0, 1],   \n",
    "    }\n",
    "    \"\"\"\n",
    "    grid_search = GridSearchCV(\n",
    "        pipeline, \n",
    "        param_grid, \n",
    "        cv=3, \n",
    "        scoring=mape_scorer, \n",
    "        n_jobs=-1, \n",
    "        verbose=1\n",
    "    )\n",
    "    \n",
    "    grid_search.fit(X, y)\n",
    "    best_model = grid_search.best_estimator_\n",
    "    joblib.dump(best_model, save_model_path)\n",
    "    \n",
    "    return best_model"
   ]
  },
  {
   "cell_type": "code",
   "execution_count": 16,
   "metadata": {},
   "outputs": [
    {
     "name": "stdout",
     "output_type": "stream",
     "text": [
      "Fitting 3 folds for each of 64 candidates, totalling 192 fits\n",
      "xgboost for cluster 1 completed.\n",
      "Fitting 3 folds for each of 64 candidates, totalling 192 fits\n",
      "xgboost for cluster 3 completed.\n",
      "Fitting 3 folds for each of 64 candidates, totalling 192 fits\n",
      "xgboost for cluster 0 completed.\n",
      "Fitting 3 folds for each of 64 candidates, totalling 192 fits\n",
      "xgboost for cluster 2 completed.\n"
     ]
    }
   ],
   "source": [
    "name_list = ['zero_v2','one_v2','two_v2','three_v2','four','five','six','seven','eight']\n",
    "for i in top_4_values: # int in range must be n_clusters\n",
    "    best_model = train_xgboost_model(name_list[i],train_df=train_df_s[train_df_s.cluster==i])\n",
    "    print(f'xgboost for cluster {i} completed.')"
   ]
  },
  {
   "cell_type": "code",
   "execution_count": 33,
   "metadata": {},
   "outputs": [],
   "source": [
    "row_max = distances.max(axis=1)[:, np.newaxis]\n",
    "shifted_matrix = distances - row_max\n",
    "row_sums = shifted_matrix.sum(axis=1)[:, np.newaxis]\n",
    "w_matrix = shifted_matrix / row_sums\n",
    "w_matrix = abs(w_matrix)"
   ]
  },
  {
   "cell_type": "code",
   "execution_count": 65,
   "metadata": {},
   "outputs": [
    {
     "name": "stdout",
     "output_type": "stream",
     "text": [
      "For cluster 1, r2=0.6490136442448204,mape=2.3195800628139542.\n",
      "For cluster 3, r2=0.8112565257666128,mape=2.2197935325821563.\n",
      "For cluster 0, r2=0.944794447231745,mape=4.7541225598532755.\n",
      "For cluster 2, r2=0.9538869564748732,mape=1.5053794859103955.\n",
      "\n",
      "Overall R² = 0.9237, Overall MAPE = 2.77%\n"
     ]
    }
   ],
   "source": [
    "loaded_model_1 = joblib.load(('../data/models/'+name_list[0]+'.pkl'))\n",
    "loaded_model_2 = joblib.load(('../data/models/'+name_list[1]+'.pkl'))\n",
    "loaded_model_3 = joblib.load(('../data/models/'+name_list[2]+'.pkl'))\n",
    "loaded_model_4 = joblib.load(('../data/models/'+name_list[3]+'.pkl'))\n",
    "models = [loaded_model_1,loaded_model_2,loaded_model_3,loaded_model_4]\n",
    "\n",
    "all_y_test = []\n",
    "all_y_pred = []\n",
    "for i in top_4_values:\n",
    "    sub_X_test = test_df_s[test_df_s.cluster==i]\n",
    "    X_test, y_test,_, _=preprocess_data_with_dates(sub_X_test, target_column='target', cluster_column='cluster')\n",
    "    if i==4:\n",
    "        loaded_model_1 = joblib.load(('../data/models/'+name_list[sub_X_test.cluster.values[0].astype(int)]+'.pkl'))\n",
    "        loaded_model_2 = joblib.load(('../data/models/'+name_list[sub_X_test.cluster.values[0].astype(int)]+'.pkl'))\n",
    "        y_pred_1 = loaded_model_1.predict(X_test)\n",
    "        y_pred_2 = loaded_model_2.predict(X_test)\n",
    "        y_pred = np.mean([y_pred_1, y_pred_2], axis=0)\n",
    "        r2 = r2_score(y_test, y_pred)\n",
    "   \n",
    "    else:\n",
    "        loaded_model = models[i]#joblib.load(('../data/models/'+name_list[sub_X_test.cluster.values[0].astype(int)]+'.pkl'))\n",
    "        y_pred = loaded_model.predict(X_test)\n",
    "        r2 = r2_score(y_test, y_pred)\n",
    "        mape = mean_absolute_percentage_error(y_test, y_pred)\n",
    "    print(f'For cluster {i}, r2={r2},mape={mape}.')\n",
    "\n",
    "\n",
    "    all_y_test.append(y_test)\n",
    "    all_y_pred.append(pd.Series(y_pred, index=y_test.index))\n",
    "\n",
    "\n",
    "all_y_test = pd.concat(all_y_test)\n",
    "all_y_pred = pd.concat(all_y_pred)\n",
    "\n",
    "\n",
    "overall_r2 = r2_score(all_y_test, all_y_pred)\n",
    "overall_mape = mean_absolute_percentage_error(all_y_test, all_y_pred)\n",
    "\n",
    "print(f'\\nOverall R² = {overall_r2:.4f}, Overall MAPE = {overall_mape:.2f}%')\n",
    "    "
   ]
  },
  {
   "cell_type": "code",
   "execution_count": 55,
   "metadata": {},
   "outputs": [],
   "source": [
    "numeric_columns = [\n",
    "    'che_pc_usd', 'che_perc_gdp', 'insurance_perc_che',\n",
    "    'population', 'prev_perc', 'price_month', 'price_unit',\n",
    "    'public_perc_che', 'market_size', 'affordability_index', \n",
    "    'price_insurance_interaction'\n",
    "]\n",
    "\n",
    "num_lags = 4 \n",
    "submission_df_with_clusters_lag = submission_df_with_clusters.sort_values(by=['cluster_nl', 'date'])\n",
    "\n",
    "\n",
    "for col in numeric_columns:\n",
    "    for lag in range(1, num_lags + 1):\n",
    "        submission_df_with_clusters_lag[f'{col}_lag_{lag}'] = (\n",
    "            submission_df_with_clusters_lag\n",
    "            .groupby('cluster_nl')[col]  \n",
    "            .shift(lag)                 \n",
    "        )"
   ]
  },
  {
   "cell_type": "code",
   "execution_count": 63,
   "metadata": {},
   "outputs": [],
   "source": [
    "s_df = submission_df_with_clusters_lag.copy()\n",
    "submission_array = np.zeros([len(template_df)])\n",
    "\n",
    "loaded_model_1 = joblib.load(('../data/models/'+name_list[0]+'.pkl'))\n",
    "loaded_model_2 = joblib.load(('../data/models/'+name_list[1]+'.pkl'))\n",
    "loaded_model_3 = joblib.load(('../data/models/'+name_list[2]+'.pkl'))\n",
    "loaded_model_4 = joblib.load(('../data/models/'+name_list[3]+'.pkl'))\n",
    "models = [loaded_model_1,loaded_model_2,loaded_model_3,loaded_model_4]\n",
    "\n",
    "for i,row in template_df.iterrows():\n",
    "    X = s_df[(s_df.date==row.iloc[0])&(s_df.cluster_nl==row.iloc[1])].head()\n",
    "    n_cluster = X.cluster.values.item()\n",
    "    if n_cluster==4:\n",
    "        X_test,_,_,_ = preprocess_data_with_dates(X, target_column='target', cluster_column='cluster')\n",
    "        y_pred_1 = loaded_model_1.predict(X_test).item()\n",
    "        y_pred_2 = loaded_model_1.predict(X_test).item()\n",
    "        submission_array[i] = np.mean([y_pred_1,y_pred_2]).item()\n",
    "\n",
    "    else:\n",
    "        row = w_matrix[n_cluster]\n",
    "        X_test,_,_,_ = preprocess_data_with_dates(X, target_column='target', cluster_column='cluster')\n",
    "        submission_array[i] = models[n_cluster].predict(X_test).item()\n",
    "template_df.prediction = submission_array"
   ]
  },
  {
   "cell_type": "code",
   "execution_count": 64,
   "metadata": {},
   "outputs": [],
   "source": [
    "template_df.to_csv('../data/outputs/try5_RR.csv',index=False)"
   ]
  },
  {
   "cell_type": "code",
   "execution_count": null,
   "metadata": {},
   "outputs": [],
   "source": [
    "brands = train_df_with_clusters.cluster_nl.unique()\n",
    "for id in brands:\n",
    "    ts=train_df_with_clusters[(train_df_with_clusters.cluster == 3)&(train_df_with_clusters.cluster_nl == id)]\n",
    "    ts = ts.set_index('date')\n",
    "    ts.target.plot()"
   ]
  },
  {
   "cell_type": "code",
   "execution_count": null,
   "metadata": {},
   "outputs": [],
   "source": [
    "brands = train_df_with_clusters.cluster_nl.unique()\n",
    "for id in brands:\n",
    "    ts=train_df_with_clusters[(train_df_with_clusters.cluster == 0)&(train_df_with_clusters.cluster_nl == id)]\n",
    "    ts = ts.set_index('date')\n",
    "    ts.target.plot()"
   ]
  },
  {
   "cell_type": "code",
   "execution_count": 53,
   "metadata": {},
   "outputs": [
    {
     "data": {
      "text/plain": [
       "sklearn.pipeline.Pipeline"
      ]
     },
     "execution_count": 53,
     "metadata": {},
     "output_type": "execute_result"
    }
   ],
   "source": [
    "type(loaded_model)"
   ]
  },
  {
   "cell_type": "code",
   "execution_count": 57,
   "metadata": {},
   "outputs": [
    {
     "ename": "IndexError",
     "evalue": "index 18 is out of bounds for axis 0 with size 3",
     "output_type": "error",
     "traceback": [
      "\u001b[1;31m---------------------------------------------------------------------------\u001b[0m",
      "\u001b[1;31mIndexError\u001b[0m                                Traceback (most recent call last)",
      "Cell \u001b[1;32mIn[57], line 19\u001b[0m\n\u001b[0;32m     17\u001b[0m plt\u001b[38;5;241m.\u001b[39mfigure(figsize\u001b[38;5;241m=\u001b[39m(\u001b[38;5;241m10\u001b[39m, \u001b[38;5;241m6\u001b[39m))\n\u001b[0;32m     18\u001b[0m plt\u001b[38;5;241m.\u001b[39mbarh(\u001b[38;5;28mrange\u001b[39m(\u001b[38;5;28mlen\u001b[39m(feature_importances)), feature_importances[sorted_idx], align\u001b[38;5;241m=\u001b[39m\u001b[38;5;124m'\u001b[39m\u001b[38;5;124mcenter\u001b[39m\u001b[38;5;124m'\u001b[39m)\n\u001b[1;32m---> 19\u001b[0m plt\u001b[38;5;241m.\u001b[39myticks(\u001b[38;5;28mrange\u001b[39m(\u001b[38;5;28mlen\u001b[39m(feature_importances)), \u001b[43mnp\u001b[49m\u001b[38;5;241;43m.\u001b[39;49m\u001b[43marray\u001b[49m\u001b[43m(\u001b[49m\u001b[43mfeature_names\u001b[49m\u001b[43m)\u001b[49m\u001b[43m[\u001b[49m\u001b[43msorted_idx\u001b[49m\u001b[43m]\u001b[49m)\n\u001b[0;32m     20\u001b[0m plt\u001b[38;5;241m.\u001b[39mxlabel(\u001b[38;5;124m\"\u001b[39m\u001b[38;5;124mFeature Importance\u001b[39m\u001b[38;5;124m\"\u001b[39m)\n\u001b[0;32m     21\u001b[0m plt\u001b[38;5;241m.\u001b[39mylabel(\u001b[38;5;124m\"\u001b[39m\u001b[38;5;124mFeature\u001b[39m\u001b[38;5;124m\"\u001b[39m)\n",
      "\u001b[1;31mIndexError\u001b[0m: index 18 is out of bounds for axis 0 with size 3"
     ]
    },
    {
     "data": {
      "image/png": "[encoded data removed]",
      "text/plain": [
       "<Figure size 1000x600 with 1 Axes>"
      ]
     },
     "metadata": {},
     "output_type": "display_data"
    }
   ],
   "source": [
    "\n",
    "# Access the XGBoost regressor\n",
    "xgboost_regressor = loaded_model.named_steps['model']  # Adjust 'xgboost' to the name of your step in the pipeline\n",
    "\n",
    "# Get feature importances\n",
    "# Option 1: Using feature_importances_\n",
    "feature_importances = xgboost_regressor.feature_importances_\n",
    "\n",
    "# Option 2: Using get_booster().get_score() (if feature names are needed)\n",
    "# booster = xgboost_regressor.get_booster()\n",
    "# feature_importances = booster.get_score(importance_type='weight')\n",
    "\n",
    "# Assuming you have feature names (replace this with your actual feature names)\n",
    "feature_names = ['feature1', 'feature2', 'feature3']  # Replace with actual feature names\n",
    "sorted_idx = np.argsort(feature_importances)\n",
    "\n",
    "# Plot the feature importances\n",
    "plt.figure(figsize=(10, 6))\n",
    "plt.barh(range(len(feature_importances)), feature_importances[sorted_idx], align='center')\n",
    "plt.yticks(range(len(feature_importances)), np.array(feature_names)[sorted_idx])\n",
    "plt.xlabel(\"Feature Importance\")\n",
    "plt.ylabel(\"Feature\")\n",
    "plt.title(\"XGBoost Feature Importances\")\n",
    "plt.show()"
   ]
  }
 ],
 "metadata": {
  "kernelspec": {
   "display_name": "novartis",
   "language": "python",
   "name": "python3"
  },
  "language_info": {
   "codemirror_mode": {
    "name": "ipython",
    "version": 3
   },
   "file_extension": ".py",
   "mimetype": "text/x-python",
   "name": "python",
   "nbconvert_exporter": "python",
   "pygments_lexer": "ipython3",
   "version": "3.12.7"
  }
 },
 "nbformat": 4,
 "nbformat_minor": 2
}
