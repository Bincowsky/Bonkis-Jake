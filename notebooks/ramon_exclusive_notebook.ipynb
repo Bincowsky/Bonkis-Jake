{
 "cells": [
  {
   "cell_type": "code",
   "execution_count": 45,
   "metadata": {},
   "outputs": [],
   "source": [
    "import pandas as pd\n",
    "import numpy as np\n",
    "from sklearn.preprocessing import StandardScaler, OneHotEncoder\n",
    "import xgboost as xgb\n",
    "from sklearn.cluster import KMeans\n",
    "import matplotlib.pyplot as plt\n",
    "import seaborn as sns\n",
    "from sklearn.metrics import silhouette_score\n",
    "from sklearn.metrics import pairwise_distances\n",
    "from sklearn.impute import KNNImputer\n",
    "import pandas as pd\n",
    "import numpy as np\n",
    "from sklearn.cluster import KMeans\n",
    "from sklearn.preprocessing import StandardScaler\n",
    "from sklearn.impute import KNNImputer\n",
    "from sklearn.metrics import silhouette_score, pairwise_distances\n",
    "import matplotlib.pyplot as plt\n",
    "import seaborn as sns\n",
    "import joblib\n",
    "from sklearn.compose import ColumnTransformer\n",
    "from sklearn.metrics import mean_squared_error\n",
    "from sklearn.model_selection import GridSearchCV\n",
    "from sklearn.model_selection import train_test_split\n",
    "from sklearn.pipeline import Pipeline\n",
    "from sklearn.metrics import make_scorer\n",
    "from sklearn.model_selection import KFold"
   ]
  },
  {
   "cell_type": "code",
   "execution_count": 37,
   "metadata": {},
   "outputs": [],
   "source": [
    "train_df = pd.read_csv('../data/raw/train_data.csv')\n",
    "train_df.replace('-1', np.nan, inplace=True)\n",
    "train_df.replace(np.float64(-1.0), np.nan, inplace=True)\n",
    "train_df['launch_date'] = pd.to_datetime(train_df['launch_date'], errors='coerce')\n",
    "train_df['date'] = pd.to_datetime(train_df['date'], errors='coerce')\n",
    "train_df['ind_launch_date'] = pd.to_datetime(train_df['ind_launch_date'], errors='coerce')\n",
    "submission_df = pd.read_csv('../data/raw/submission_data.csv')\n",
    "submission_df.replace('-1', np.nan, inplace=True)\n",
    "submission_df.replace(np.float64(-1.0), np.nan, inplace=True)\n",
    "template_df = pd.read_csv('../data/processed/submission_template.csv')"
   ]
  },
  {
   "cell_type": "code",
   "execution_count": 38,
   "metadata": {},
   "outputs": [],
   "source": [
    "all_ids = train_df.cluster_nl.unique()\n",
    "rows_to_drop = []\n",
    "\n",
    "for id in all_ids:\n",
    "    sub_df = train_df[train_df.cluster_nl == id]  \n",
    "    first_date = sub_df['date'].min()  \n",
    "    cutoff_date = first_date + pd.DateOffset(months=12)  \n",
    "\n",
    "    filtered_df = sub_df[sub_df['date'] <= cutoff_date]\n",
    "    rows_to_drop.append(train_df[train_df.cluster_nl == id].index.difference(filtered_df.index))\n",
    "\n",
    "\n",
    "rows_to_drop = np.concatenate(rows_to_drop)\n",
    "train_df = train_df.drop(rows_to_drop)"
   ]
  },
  {
   "cell_type": "code",
   "execution_count": 40,
   "metadata": {},
   "outputs": [
    {
     "name": "stdout",
     "output_type": "stream",
     "text": [
      "preprocess_data done\n",
      "create_clusters finished\n",
      "assign_clusters_to_submission finished\n",
      "process data finished\n",
      "        brand  che_pc_usd  che_perc_gdp               cluster_nl corporation  \\\n",
      "0  BRAND_354E    1.209114      1.665879  BRAND_354E_COUNTRY_88A3   CORP_D524   \n",
      "1  BRAND_626D         NaN           NaN  BRAND_626D_COUNTRY_8B47   CORP_01C7   \n",
      "2  BRAND_45D9    1.209114      1.665879  BRAND_45D9_COUNTRY_88A3   CORP_39F7   \n",
      "3  BRAND_D724    1.851280      2.051770  BRAND_D724_COUNTRY_445D   CORP_711A   \n",
      "4  BRAND_4887    1.791199      2.059130  BRAND_4887_COUNTRY_D8B0   CORP_443D   \n",
      "\n",
      "        country launch_date       date       drug_id ind_launch_date  \\\n",
      "0  COUNTRY_88A3  2014-06-01 2014-06-01  DRUG_ID_8795             NaT   \n",
      "1  COUNTRY_8B47  2014-06-01 2014-06-01  DRUG_ID_E66E      2014-09-01   \n",
      "2  COUNTRY_88A3  2014-06-01 2014-06-01  DRUG_ID_F272             NaT   \n",
      "3  COUNTRY_445D  2014-06-01 2014-06-01  DRUG_ID_1D4E             NaT   \n",
      "4  COUNTRY_D8B0  2014-06-01 2014-06-01  DRUG_ID_AA88             NaT   \n",
      "\n",
      "                 indication  insurance_perc_che  population  prev_perc  \\\n",
      "0              ['IND_C3B6']            1.893333    1.008039   0.028367   \n",
      "1  ['IND_1590', 'IND_ECAC']                 NaN    1.023562   0.000047   \n",
      "2              ['IND_B2EF']            1.893333    1.008039   0.001502   \n",
      "3              ['IND_BAFB']            1.000000    1.253186   0.001304   \n",
      "4              ['IND_3F31']            2.013333    1.639352   0.054467   \n",
      "\n",
      "   price_month  price_unit  public_perc_che therapeutic_area    target  \\\n",
      "0     1.006444    1.013784         1.835821   THER_AREA_980E  1.000784   \n",
      "1          NaN    1.626677              NaN   THER_AREA_96D7  1.000000   \n",
      "2          NaN    3.144874         1.835821   THER_AREA_96D7  1.002258   \n",
      "3          NaN    1.213446         1.805970   THER_AREA_6CEE  1.068761   \n",
      "4     1.018589    1.008708         1.880597   THER_AREA_6CEE  1.036312   \n",
      "\n",
      "   cluster  \n",
      "0        2  \n",
      "1        0  \n",
      "2        2  \n",
      "3        1  \n",
      "4        0  \n",
      "        brand  che_pc_usd  che_perc_gdp               cluster_nl corporation  \\\n",
      "0  BRAND_E57A    2.079046      1.467920  BRAND_E57A_COUNTRY_06E4   CORP_01C7   \n",
      "1  BRAND_014B    2.079046      1.467920  BRAND_014B_COUNTRY_06E4   CORP_01C7   \n",
      "2  BRAND_1E6F    1.018268      1.108030  BRAND_1E6F_COUNTRY_4647   CORP_01C7   \n",
      "3  BRAND_9259    1.190075      1.515375  BRAND_9259_COUNTRY_FA79   CORP_01C7   \n",
      "4  BRAND_106A    1.018876      1.127864  BRAND_106A_COUNTRY_E319   CORP_DF1B   \n",
      "\n",
      "        country launch_date        date       drug_id      ind_launch_date  \\\n",
      "0  COUNTRY_06E4  2022-02-01  2023-01-01  DRUG_ID_FADD  2022-08-01 00:00:00   \n",
      "1  COUNTRY_06E4  2022-09-01  2023-01-01  DRUG_ID_E07F                  NaN   \n",
      "2  COUNTRY_4647  2022-05-01  2023-01-01  DRUG_ID_1A21  2022-06-01 00:00:00   \n",
      "3  COUNTRY_FA79  2022-12-01  2023-01-01  DRUG_ID_1315                  NaN   \n",
      "4  COUNTRY_E319  2022-12-01  2023-01-01  DRUG_ID_2832  2020-03-01 00:00:00   \n",
      "\n",
      "                 indication  insurance_perc_che  population  prev_perc  \\\n",
      "0              ['IND_C3B6']            1.000000    1.004739   0.036647   \n",
      "1              ['IND_A496']            1.000000    1.004739   0.106925   \n",
      "2  ['IND_120F', 'IND_8E8D']            1.226667    3.243906   0.041152   \n",
      "3              ['IND_BAFB']            1.785253    1.042681   0.002766   \n",
      "4              ['IND_5586']            1.076762    1.881992   0.000133   \n",
      "\n",
      "   price_month  price_unit  public_perc_che therapeutic_area  target  cluster  \n",
      "0     1.007091    1.012037         1.910448   THER_AREA_980E     NaN        1  \n",
      "1          NaN    1.121625         1.910448   THER_AREA_6CEE     NaN        1  \n",
      "2          NaN    1.005001         1.567164   THER_AREA_CD59     NaN        2  \n",
      "3          NaN    1.271214         1.786265   THER_AREA_6CEE     NaN        2  \n",
      "4          NaN    2.073953         1.223881   THER_AREA_96D7     NaN        2  \n"
     ]
    },
    {
     "name": "stderr",
     "output_type": "stream",
     "text": [
      "c:\\anaconda3\\envs\\novartis\\Lib\\site-packages\\sklearn\\base.py:486: UserWarning: X has feature names, but StandardScaler was fitted without feature names\n",
      "  warnings.warn(\n"
     ]
    }
   ],
   "source": [
    "def preprocess_data(train_df, aggregation_features):\n",
    "\n",
    "    knn_imputer = KNNImputer(n_neighbors=5)\n",
    "    knn_imputer.fit(train_df[aggregation_features])   \n",
    "    complete_data_imputed = knn_imputer.transform(train_df[aggregation_features])\n",
    "    scaler = StandardScaler()\n",
    "    complete_data_scaled = scaler.fit_transform(complete_data_imputed)\n",
    "    print('preprocess_data done')\n",
    "    return knn_imputer, scaler, complete_data_scaled\n",
    "\n",
    "def evaluate_kmeans(X, max_clusters=4):\n",
    "    silhouette_scores = []\n",
    "    \n",
    "    for n_clusters in range(2, max_clusters + 1):\n",
    "        kmeans = KMeans(n_clusters=n_clusters, random_state=42)\n",
    "        kmeans.fit(X)\n",
    "        silhouette_scores.append(silhouette_score(X, kmeans.labels_)) \n",
    "    \n",
    "    optimal_clusters_silhouette = np.argmax(silhouette_scores) + 2\n",
    "    return optimal_clusters_silhouette\n",
    "\n",
    "def create_clusters(X, optimal_clusters_silhouette):\n",
    "    kmeans = KMeans(n_clusters=optimal_clusters_silhouette, random_state=42)\n",
    "    clusters = kmeans.fit_predict(X)\n",
    "    print('create_clusters finished')\n",
    "    return kmeans, clusters\n",
    "\n",
    "def preprocess_submission_data(submission_df, knn_imputer, aggregation_features):\n",
    "    # Impute missing data using KNN (using the already fitted imputer)\n",
    "    submission_imputed = knn_imputer.transform(submission_df[aggregation_features])\n",
    "    \n",
    "    # Convert imputed data back to DataFrame with proper column names\n",
    "    submission_imputed_df = pd.DataFrame(submission_imputed, columns=aggregation_features)\n",
    "    \n",
    "    return submission_imputed_df\n",
    "\n",
    "def assign_clusters_to_submission(submission_df, submission_imputed_df, kmeans, scaler):\n",
    "\n",
    "    submission_scaled = scaler.transform(submission_imputed_df)\n",
    "    distances_submission = pairwise_distances(submission_scaled, kmeans.cluster_centers_)\n",
    "    submission_df.loc[:, 'cluster'] = np.argmin(distances_submission, axis=1)\n",
    "    print('assign_clusters_to_submission finished')\n",
    "    return submission_df\n",
    "\n",
    "def process_data(train_df, submission_df, aggregation_features):\n",
    "\n",
    "    knn_imputer, scaler, complete_data_scaled = preprocess_data(train_df, aggregation_features)\n",
    "    optimal_clusters_silhouette = evaluate_kmeans(complete_data_scaled)\n",
    "    kmeans, complete_data_clusters = create_clusters(complete_data_scaled, optimal_clusters_silhouette)\n",
    "    train_df['cluster'] = complete_data_clusters\n",
    "    \n",
    "    submission_imputed_df = preprocess_submission_data(submission_df, knn_imputer, aggregation_features)\n",
    "    submission_with_clusters = assign_clusters_to_submission(submission_df, submission_imputed_df, kmeans, scaler)\n",
    "    print('process data finished')\n",
    "    return train_df, submission_with_clusters\n",
    "\n",
    "aggregation_features = train_df.select_dtypes(include=['number']).columns.tolist()\n",
    "\n",
    "train_df_with_clusters, submission_df_with_clusters = process_data(train_df, submission_df, aggregation_features)\n",
    "\n",
    "# Display the final clustered dataframes\n",
    "print(train_df_with_clusters.head())\n",
    "print(submission_df_with_clusters.head())"
   ]
  },
  {
   "cell_type": "code",
   "execution_count": 44,
   "metadata": {},
   "outputs": [
    {
     "data": {
      "text/plain": [
       "array(['BRAND_626D_COUNTRY_7D31', 'BRAND_44D9_COUNTRY_AE54',\n",
       "       'BRAND_74A3_COUNTRY_AE54', 'BRAND_127B_COUNTRY_AE54',\n",
       "       'BRAND_6C0F_COUNTRY_AE54', 'BRAND_138F_COUNTRY_7D31',\n",
       "       'BRAND_9DA9_COUNTRY_7D31', 'BRAND_AEF0_COUNTRY_7D31',\n",
       "       'BRAND_152E_COUNTRY_AE54', 'BRAND_4134_COUNTRY_AE54',\n",
       "       'BRAND_BBE0_COUNTRY_7D31', 'BRAND_3739_COUNTRY_AE54',\n",
       "       'BRAND_E68F_COUNTRY_AE54', 'BRAND_C8FD_COUNTRY_AE54',\n",
       "       'BRAND_0056_COUNTRY_AE54', 'BRAND_7A2E_COUNTRY_AE54',\n",
       "       'BRAND_7205_COUNTRY_AE54', 'BRAND_71FA_COUNTRY_AE54',\n",
       "       'BRAND_7A87_COUNTRY_AE54', 'BRAND_F5E9_COUNTRY_AE54',\n",
       "       'BRAND_076F_COUNTRY_AE54', 'BRAND_5EBB_COUNTRY_AE54',\n",
       "       'BRAND_9628_COUNTRY_AE54', 'BRAND_CCAA_COUNTRY_AE54',\n",
       "       'BRAND_51B0_COUNTRY_AE54', 'BRAND_C114_COUNTRY_AE54',\n",
       "       'BRAND_F05A_COUNTRY_AE54', 'BRAND_62C7_COUNTRY_AE54',\n",
       "       'BRAND_A12A_COUNTRY_AE54', 'BRAND_7114_COUNTRY_AE54',\n",
       "       'BRAND_4AB9_COUNTRY_AE54', 'BRAND_4048_COUNTRY_AE54',\n",
       "       'BRAND_797D_COUNTRY_7D31', 'BRAND_BE50_COUNTRY_7D31',\n",
       "       'BRAND_FEAE_COUNTRY_7D31', 'BRAND_58DC_COUNTRY_AE54',\n",
       "       'BRAND_F3AD_COUNTRY_AE54', 'BRAND_D72F_COUNTRY_7D31',\n",
       "       'BRAND_B01A_COUNTRY_AE54', 'BRAND_9259_COUNTRY_AE54',\n",
       "       'BRAND_1E6F_COUNTRY_AE54', 'BRAND_3CEB_COUNTRY_7D31',\n",
       "       'BRAND_4888_COUNTRY_AE54', 'BRAND_CFD9_COUNTRY_AE54',\n",
       "       'BRAND_12B2_COUNTRY_AE54', 'BRAND_417E_COUNTRY_AE54',\n",
       "       'BRAND_A5D5_COUNTRY_7D31', 'BRAND_ED43_COUNTRY_7D31',\n",
       "       'BRAND_76D6_COUNTRY_AE54', 'BRAND_B1E8_COUNTRY_AE54',\n",
       "       'BRAND_89E4_COUNTRY_7D31'], dtype=object)"
      ]
     },
     "execution_count": 44,
     "metadata": {},
     "output_type": "execute_result"
    }
   ],
   "source": [
    "train_df_with_clusters[train_df_with_clusters.cluster == 3].cluster_nl.unique()"
   ]
  },
  {
   "cell_type": "code",
   "execution_count": 43,
   "metadata": {},
   "outputs": [
    {
     "data": {
      "text/plain": [
       "<Axes: >"
      ]
     },
     "execution_count": 43,
     "metadata": {},
     "output_type": "execute_result"
    },
    {
     "data": {
      "image/png": "[encoded data removed]",
      "text/plain": [
       "<Figure size 640x480 with 1 Axes>"
      ]
     },
     "metadata": {},
     "output_type": "display_data"
    }
   ],
   "source": [
    "submission_df_with_clusters.cluster.hist()"
   ]
  },
  {
   "cell_type": "code",
   "execution_count": 15,
   "metadata": {},
   "outputs": [
    {
     "data": {
      "text/plain": [
       "brand                  object\n",
       "che_pc_usd            float64\n",
       "che_perc_gdp          float64\n",
       "cluster_nl             object\n",
       "corporation            object\n",
       "country                object\n",
       "launch_date            object\n",
       "date                   object\n",
       "drug_id                object\n",
       "ind_launch_date        object\n",
       "indication             object\n",
       "insurance_perc_che    float64\n",
       "population            float64\n",
       "prev_perc             float64\n",
       "price_month           float64\n",
       "price_unit            float64\n",
       "public_perc_che       float64\n",
       "therapeutic_area       object\n",
       "target                float64\n",
       "cluster                 int64\n",
       "dtype: object"
      ]
     },
     "execution_count": 15,
     "metadata": {},
     "output_type": "execute_result"
    }
   ],
   "source": [
    "submission_df_with_clusters.dtypes"
   ]
  },
  {
   "cell_type": "code",
   "execution_count": 50,
   "metadata": {},
   "outputs": [],
   "source": [
    "def preprocess_data_with_dates(train_df, target_column='target', cluster_column='cluster'):\n",
    "  \n",
    "\n",
    "    X = train_df.drop(columns=[target_column, cluster_column])\n",
    "    y = train_df[target_column]\n",
    "    date_columns = ['date', 'launch_date', 'ind_launch_date']\n",
    "    \n",
    "    for col in date_columns:\n",
    "        if col in X.columns:\n",
    "\n",
    "            X[col] = pd.to_datetime(X[col], errors='coerce')\n",
    "            \n",
    "            # Extract date features\n",
    "            X[col + '_year'] = X[col].dt.year.fillna(0).astype(int)  # Fill missing years with 0\n",
    "            X[col + '_month'] = X[col].dt.month.fillna(0).astype(int)\n",
    "            X[col + '_day'] = X[col].dt.day.fillna(0).astype(int)\n",
    "            X[col + '_dayofweek'] = X[col].dt.dayofweek.fillna(0).astype(int)\n",
    "            X[col + '_dayofyear'] = X[col].dt.dayofyear.fillna(0).astype(int)\n",
    "            X[col + '_is_month_start'] = X[col].dt.is_month_start.fillna(False).astype(int)\n",
    "            X[col + '_is_month_end'] = X[col].dt.is_month_end.fillna(False).astype(int)\n",
    "            X[col + '_is_quarter_start'] = X[col].dt.is_quarter_start.fillna(False).astype(int)\n",
    "            X[col + '_is_quarter_end'] = X[col].dt.is_quarter_end.fillna(False).astype(int)\n",
    "            X[col + '_is_year_start'] = X[col].dt.is_year_start.fillna(False).astype(int)\n",
    "            X[col + '_is_year_end'] = X[col].dt.is_year_end.fillna(False).astype(int)\n",
    "\n",
    "            X = X.drop(columns=[col])\n",
    "    \n",
    "    X = X.fillna(0) \n",
    "\n",
    "    numeric_cols = X.select_dtypes(include=['float64', 'int64']).columns.tolist()\n",
    "    categorical_cols = X.select_dtypes(include=['object']).columns.tolist()\n",
    "\n",
    "    return X, y, numeric_cols, categorical_cols"
   ]
  },
  {
   "cell_type": "code",
   "execution_count": 54,
   "metadata": {},
   "outputs": [],
   "source": [
    "def mean_absolute_percentage_error(y_true, y_pred):\n",
    "    return np.mean(np.abs((y_true - y_pred) / y_true)) * 100\n",
    "\n",
    "def train_xgboost_model(\n",
    "    name, \n",
    "    train_df, \n",
    "    target_column='target', \n",
    "    cluster_column='cluster', \n",
    "    save_model_path='best_xgboost_model.pkl', \n",
    "    save_grid_search_path='xgboost_grid_search.pkl'\n",
    "):\n",
    "\n",
    "    save_model_path = f'../data/models/{name}.pkl'\n",
    "    X, y, numeric_cols, categorical_cols = preprocess_data_with_dates(train_df, target_column, cluster_column)\n",
    "    preprocessor = ColumnTransformer(\n",
    "        transformers=[\n",
    "            ('num', StandardScaler(), numeric_cols),  \n",
    "            ('cat', OneHotEncoder(handle_unknown='ignore'), categorical_cols) \n",
    "        ])\n",
    "    \n",
    "    model = xgb.XGBRegressor(objective='reg:squarederror', random_state=42)\n",
    "    pipeline = Pipeline(steps=[('preprocessor', preprocessor), ('model', model)])\n",
    "\n",
    "    param_grid = {\n",
    "        'model__n_estimators': [100, 300, 500],  \n",
    "        'model__learning_rate': [0.01, 0.05, 0.1, 0.2], \n",
    "        'model__max_depth': [3, 5, 10],  \n",
    "        'model__subsample': [0.8, 1.0], \n",
    "        'model__colsample_bytree': [0.8, 1.0],  \n",
    "        'model__min_child_weight': [1, 3, 5],  \n",
    "        'model__gamma': [0, 1],   \n",
    "    }\n",
    "    \n",
    "    grid_search = GridSearchCV(\n",
    "        pipeline, \n",
    "        param_grid, \n",
    "        cv=3, \n",
    "        scoring=mape_scorer, \n",
    "        n_jobs=-1, \n",
    "        verbose=1\n",
    "    )\n",
    "    \n",
    "    grid_search.fit(X, y)\n",
    "    best_model = grid_search.best_estimator_\n",
    "    joblib.dump(best_model, save_model_path)\n",
    "    \n",
    "    return best_model"
   ]
  },
  {
   "cell_type": "code",
   "execution_count": 55,
   "metadata": {},
   "outputs": [
    {
     "name": "stdout",
     "output_type": "stream",
     "text": [
      "Fitting 3 folds for each of 864 candidates, totalling 2592 fits\n",
      "xgboost for cluster 0 completed.\n",
      "Fitting 3 folds for each of 864 candidates, totalling 2592 fits\n",
      "xgboost for cluster 1 completed.\n",
      "Fitting 3 folds for each of 864 candidates, totalling 2592 fits\n",
      "xgboost for cluster 2 completed.\n",
      "Fitting 3 folds for each of 864 candidates, totalling 2592 fits\n"
     ]
    },
    {
     "name": "stderr",
     "output_type": "stream",
     "text": [
      "c:\\anaconda3\\envs\\novartis\\Lib\\site-packages\\numpy\\ma\\core.py:2846: RuntimeWarning: invalid value encountered in cast\n",
      "  _data = np.array(data, dtype=dtype, copy=copy,\n"
     ]
    },
    {
     "name": "stdout",
     "output_type": "stream",
     "text": [
      "xgboost for cluster 3 completed.\n"
     ]
    }
   ],
   "source": [
    "mape_scorer = make_scorer(mean_absolute_percentage_error, greater_is_better=False)\n",
    "\n",
    "name_list = ['zero','one','two','three','four','five','six','seven','eight']\n",
    "for i in range(4):\n",
    "    best_model = train_xgboost_model(name_list[i],train_df=train_df[train_df.cluster==i])\n",
    "    print(f'xgboost for cluster {i} completed.')"
   ]
  },
  {
   "cell_type": "code",
   "execution_count": 40,
   "metadata": {},
   "outputs": [],
   "source": [
    "loaded_model = joblib.load(('../data/models/zero.pkl'))"
   ]
  },
  {
   "cell_type": "code",
   "execution_count": 56,
   "metadata": {},
   "outputs": [],
   "source": [
    "s_df = submission_df_with_clusters.copy()\n",
    "submission_array = np.zeros([len(template_df)])\n",
    "for i,row in template_df.iterrows():\n",
    "    X = s_df[(s_df.date==row.iloc[0])&(s_df.cluster_nl==row.iloc[1])].head()\n",
    "    loaded_model = joblib.load(('../data/models/'+name_list[X.cluster.values[0].astype(int)]+'.pkl'))\n",
    "    X_test,_,_,_ = preprocess_data_with_dates(X, target_column='target', cluster_column='cluster')\n",
    "    submission_array[i] = loaded_model.predict(X_test).item()\n",
    "template_df.prediction = submission_array"
   ]
  },
  {
   "cell_type": "code",
   "execution_count": 57,
   "metadata": {},
   "outputs": [],
   "source": [
    "template_df.to_csv('../data/outputs/try3_RR.csv',index=False)"
   ]
  },
  {
   "cell_type": "code",
   "execution_count": null,
   "metadata": {},
   "outputs": [],
   "source": []
  }
 ],
 "metadata": {
  "kernelspec": {
   "display_name": "novartis",
   "language": "python",
   "name": "python3"
  },
  "language_info": {
   "codemirror_mode": {
    "name": "ipython",
    "version": 3
   },
   "file_extension": ".py",
   "mimetype": "text/x-python",
   "name": "python",
   "nbconvert_exporter": "python",
   "pygments_lexer": "ipython3",
   "version": "3.12.7"
  }
 },
 "nbformat": 4,
 "nbformat_minor": 2
}
