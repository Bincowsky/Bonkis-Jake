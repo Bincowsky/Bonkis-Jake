{
 "cells": [
  {
   "cell_type": "code",
   "execution_count": 45,
   "metadata": {},
   "outputs": [],
   "source": [
    "import pandas as pd\n",
    "import numpy as np\n",
    "from sklearn.preprocessing import StandardScaler, OneHotEncoder\n",
    "import xgboost as xgb\n",
    "from sklearn.cluster import KMeans\n",
    "import matplotlib.pyplot as plt\n",
    "import seaborn as sns\n",
    "from sklearn.metrics import silhouette_score\n",
    "from sklearn.metrics import pairwise_distances\n",
    "from sklearn.impute import KNNImputer\n",
    "import pandas as pd\n",
    "import numpy as np\n",
    "from sklearn.cluster import KMeans\n",
    "from sklearn.preprocessing import StandardScaler\n",
    "from sklearn.impute import KNNImputer\n",
    "from sklearn.metrics import silhouette_score, pairwise_distances\n",
    "import matplotlib.pyplot as plt\n",
    "import seaborn as sns\n",
    "import joblib\n",
    "from sklearn.compose import ColumnTransformer\n",
    "from sklearn.metrics import mean_squared_error\n",
    "from sklearn.model_selection import GridSearchCV\n",
    "from sklearn.model_selection import train_test_split\n",
    "from sklearn.pipeline import Pipeline\n",
    "from sklearn.metrics import make_scorer\n",
    "from sklearn.model_selection import KFold"
   ]
  },
  {
   "cell_type": "code",
   "execution_count": null,
   "metadata": {},
   "outputs": [],
   "source": [
    "train_df = pd.read_csv('../data/raw/train_data.csv')\n",
    "\n",
    "\n",
    "train_df.replace('-1', np.nan, inplace=True)\n",
    "train_df.replace(np.float64(-1.0), np.nan, inplace=True)\n",
    "train_df['launch_date'] = pd.to_datetime(train_df['launch_date'], errors='coerce')\n",
    "train_df['date'] = pd.to_datetime(train_df['date'], errors='coerce')\n",
    "train_df['ind_launch_date'] = pd.to_datetime(train_df['ind_launch_date'], errors='coerce')\n",
    "train_df = train_df.drop(columns=['ind_launch_date'])\n",
    "\n",
    "submission_df = pd.read_csv('../data/raw/submission_data.csv')\n",
    "\n",
    "\n",
    "submission_df.replace('-1', np.nan, inplace=True)\n",
    "submission_df.replace(np.float64(-1.0), np.nan, inplace=True)\n",
    "submission_df['launch_date'] = pd.to_datetime(train_df['launch_date'], errors='coerce')\n",
    "submission_df['date'] = pd.to_datetime(train_df['date'], errors='coerce')\n",
    "submission_df['ind_launch_date'] = pd.to_datetime(train_df['ind_launch_date'], errors='coerce')\n",
    "submission_df = submission_df.drop(columns=['ind_launch_date'])\n",
    "\n",
    "\n",
    "template_df = pd.read_csv('../data/processed/submission_template.csv')\n"
   ]
  },
  {
   "cell_type": "code",
   "execution_count": 69,
   "metadata": {},
   "outputs": [],
   "source": [
    "train_df_2 = pd.read_csv('../data/intermig/train_data-meanimputed.csv')"
   ]
  },
  {
   "cell_type": "code",
   "execution_count": 70,
   "metadata": {},
   "outputs": [
    {
     "data": {
      "text/html": [
       "<div>\n",
       "<style scoped>\n",
       "    .dataframe tbody tr th:only-of-type {\n",
       "        vertical-align: middle;\n",
       "    }\n",
       "\n",
       "    .dataframe tbody tr th {\n",
       "        vertical-align: top;\n",
       "    }\n",
       "\n",
       "    .dataframe thead th {\n",
       "        text-align: right;\n",
       "    }\n",
       "</style>\n",
       "<table border=\"1\" class=\"dataframe\">\n",
       "  <thead>\n",
       "    <tr style=\"text-align: right;\">\n",
       "      <th></th>\n",
       "      <th>brand</th>\n",
       "      <th>che_pc_usd</th>\n",
       "      <th>che_perc_gdp</th>\n",
       "      <th>cluster_nl</th>\n",
       "      <th>corporation</th>\n",
       "      <th>country</th>\n",
       "      <th>launch_date</th>\n",
       "      <th>date</th>\n",
       "      <th>drug_id</th>\n",
       "      <th>ind_launch_date</th>\n",
       "      <th>indication</th>\n",
       "      <th>insurance_perc_che</th>\n",
       "      <th>population</th>\n",
       "      <th>prev_perc</th>\n",
       "      <th>price_month</th>\n",
       "      <th>price_unit</th>\n",
       "      <th>public_perc_che</th>\n",
       "      <th>therapeutic_area</th>\n",
       "      <th>target</th>\n",
       "      <th>months_since_launch</th>\n",
       "    </tr>\n",
       "  </thead>\n",
       "  <tbody>\n",
       "    <tr>\n",
       "      <th>0</th>\n",
       "      <td>BRAND_354E</td>\n",
       "      <td>1.209114</td>\n",
       "      <td>1.665879</td>\n",
       "      <td>BRAND_354E_COUNTRY_88A3</td>\n",
       "      <td>CORP_D524</td>\n",
       "      <td>COUNTRY_88A3</td>\n",
       "      <td>2014-06-01</td>\n",
       "      <td>2014-06-01</td>\n",
       "      <td>DRUG_ID_8795</td>\n",
       "      <td>NaN</td>\n",
       "      <td>['IND_C3B6']</td>\n",
       "      <td>1.893333</td>\n",
       "      <td>1.008039</td>\n",
       "      <td>0.028367</td>\n",
       "      <td>1.006444</td>\n",
       "      <td>1.013784</td>\n",
       "      <td>1.835821</td>\n",
       "      <td>THER_AREA_980E</td>\n",
       "      <td>1.000784</td>\n",
       "      <td>0</td>\n",
       "    </tr>\n",
       "    <tr>\n",
       "      <th>1</th>\n",
       "      <td>BRAND_626D</td>\n",
       "      <td>1.478341</td>\n",
       "      <td>1.730112</td>\n",
       "      <td>BRAND_626D_COUNTRY_8B47</td>\n",
       "      <td>CORP_01C7</td>\n",
       "      <td>COUNTRY_8B47</td>\n",
       "      <td>2014-06-01</td>\n",
       "      <td>2014-06-01</td>\n",
       "      <td>DRUG_ID_E66E</td>\n",
       "      <td>2014-09-01</td>\n",
       "      <td>['IND_1590', 'IND_ECAC']</td>\n",
       "      <td>1.470720</td>\n",
       "      <td>1.023562</td>\n",
       "      <td>0.000047</td>\n",
       "      <td>1.092357</td>\n",
       "      <td>1.626677</td>\n",
       "      <td>1.736057</td>\n",
       "      <td>THER_AREA_96D7</td>\n",
       "      <td>1.000000</td>\n",
       "      <td>0</td>\n",
       "    </tr>\n",
       "  </tbody>\n",
       "</table>\n",
       "</div>"
      ],
      "text/plain": [
       "        brand  che_pc_usd  che_perc_gdp               cluster_nl corporation  \\\n",
       "0  BRAND_354E    1.209114      1.665879  BRAND_354E_COUNTRY_88A3   CORP_D524   \n",
       "1  BRAND_626D    1.478341      1.730112  BRAND_626D_COUNTRY_8B47   CORP_01C7   \n",
       "\n",
       "        country launch_date        date       drug_id ind_launch_date  \\\n",
       "0  COUNTRY_88A3  2014-06-01  2014-06-01  DRUG_ID_8795             NaN   \n",
       "1  COUNTRY_8B47  2014-06-01  2014-06-01  DRUG_ID_E66E      2014-09-01   \n",
       "\n",
       "                 indication  insurance_perc_che  population  prev_perc  \\\n",
       "0              ['IND_C3B6']            1.893333    1.008039   0.028367   \n",
       "1  ['IND_1590', 'IND_ECAC']            1.470720    1.023562   0.000047   \n",
       "\n",
       "   price_month  price_unit  public_perc_che therapeutic_area    target  \\\n",
       "0     1.006444    1.013784         1.835821   THER_AREA_980E  1.000784   \n",
       "1     1.092357    1.626677         1.736057   THER_AREA_96D7  1.000000   \n",
       "\n",
       "   months_since_launch  \n",
       "0                    0  \n",
       "1                    0  "
      ]
     },
     "execution_count": 70,
     "metadata": {},
     "output_type": "execute_result"
    }
   ],
   "source": [
    "train_df_2.head(2)"
   ]
  },
  {
   "cell_type": "code",
   "execution_count": null,
   "metadata": {},
   "outputs": [],
   "source": [
    "all_ids = train_df.cluster_nl.unique()\n",
    "rows_to_drop = []\n",
    "\n",
    "for id in all_ids:\n",
    "    sub_df = train_df[train_df.cluster_nl == id]  \n",
    "    first_date = sub_df['date'].min()  \n",
    "    cutoff_date = first_date + pd.DateOffset(months=12)  # 23 months a provar\n",
    "\n",
    "    filtered_df = sub_df[sub_df['date'] <= cutoff_date]\n",
    "    rows_to_drop.append(train_df[train_df.cluster_nl == id].index.difference(filtered_df.index))\n",
    "\n",
    "\n",
    "rows_to_drop = np.concatenate(rows_to_drop)\n",
    "train_df = train_df.drop(rows_to_drop)"
   ]
  },
  {
   "cell_type": "code",
   "execution_count": null,
   "metadata": {},
   "outputs": [
    {
     "name": "stdout",
     "output_type": "stream",
     "text": [
      "preprocess_data done\n",
      "create_clusters finished\n",
      "assign_clusters_to_submission finished\n",
      "process data finished\n"
     ]
    },
    {
     "name": "stderr",
     "output_type": "stream",
     "text": [
      "c:\\anaconda3\\envs\\novartis\\Lib\\site-packages\\sklearn\\base.py:486: UserWarning: X has feature names, but StandardScaler was fitted without feature names\n",
      "  warnings.warn(\n"
     ]
    }
   ],
   "source": [
    "def preprocess_data(train_df, aggregation_features):\n",
    "\n",
    "    knn_imputer = KNNImputer(n_neighbors=5)\n",
    "    knn_imputer.fit(train_df[aggregation_features])  \n",
    "    complete_data_imputed = knn_imputer.transform(train_df[aggregation_features])\n",
    "    scaler = StandardScaler()\n",
    "    complete_data_scaled = scaler.fit_transform(complete_data_imputed)\n",
    "    print('preprocess_data done')\n",
    "    return knn_imputer, scaler, complete_data_scaled\n",
    "\n",
    "def evaluate_kmeans(X, max_clusters=4):\n",
    "    silhouette_scores = []\n",
    "    \n",
    "    for n_clusters in range(2, max_clusters + 1):\n",
    "        kmeans = KMeans(n_clusters=n_clusters, random_state=42)\n",
    "        kmeans.fit(X)\n",
    "        silhouette_scores.append(silhouette_score(X, kmeans.labels_)) \n",
    "    \n",
    "    optimal_clusters_silhouette = np.argmax(silhouette_scores) + 2\n",
    "    return optimal_clusters_silhouette\n",
    "\n",
    "def create_clusters(X, optimal_clusters_silhouette):\n",
    "    kmeans = KMeans(n_clusters=optimal_clusters_silhouette, random_state=42)\n",
    "    clusters = kmeans.fit_predict(X)\n",
    "    print('create_clusters finished')\n",
    "    return kmeans, clusters\n",
    "\n",
    "def preprocess_submission_data(submission_df, knn_imputer, aggregation_features):\n",
    "    # Impute missing data using KNN (using the already fitted imputer)\n",
    "    submission_imputed = knn_imputer.transform(submission_df[aggregation_features])\n",
    "    \n",
    "    # Convert imputed data back to DataFrame with proper column names\n",
    "    submission_imputed_df = pd.DataFrame(submission_imputed, columns=aggregation_features)\n",
    "    \n",
    "    return submission_imputed_df\n",
    "\n",
    "def assign_clusters_to_submission(submission_df, submission_imputed_df, kmeans, scaler):\n",
    "\n",
    "    submission_scaled = scaler.transform(submission_imputed_df)\n",
    "    distances_submission = pairwise_distances(submission_scaled, kmeans.cluster_centers_)\n",
    "    submission_df.loc[:, 'cluster'] = np.argmin(distances_submission, axis=1)\n",
    "    print('assign_clusters_to_submission finished')\n",
    "    return submission_df\n",
    "\n",
    "def process_data(train_df, submission_df, aggregation_features):\n",
    "\n",
    "    knn_imputer, scaler, complete_data_scaled = preprocess_data(train_df, aggregation_features)\n",
    "    optimal_clusters_silhouette = evaluate_kmeans(complete_data_scaled)\n",
    "    kmeans, complete_data_clusters = create_clusters(complete_data_scaled, optimal_clusters_silhouette)\n",
    "    train_df['cluster'] = complete_data_clusters\n",
    "    \n",
    "    submission_imputed_df = preprocess_submission_data(submission_df, knn_imputer, aggregation_features)\n",
    "    submission_with_clusters = assign_clusters_to_submission(submission_df, submission_imputed_df, kmeans, scaler)\n",
    "    print('process data finished')\n",
    "    return train_df, submission_with_clusters\n",
    "\n",
    "aggregation_features = train_df.select_dtypes(include=['number']).columns.tolist()\n",
    "train_df_with_clusters, submission_df_with_clusters = process_data(train_df, submission_df, aggregation_features)"
   ]
  },
  {
   "cell_type": "code",
   "execution_count": 50,
   "metadata": {},
   "outputs": [],
   "source": [
    "def preprocess_data_with_dates(train_df, target_column='target', cluster_column='cluster'):\n",
    "  \n",
    "\n",
    "    X = train_df.drop(columns=[target_column, cluster_column])\n",
    "    y = train_df[target_column]\n",
    "    date_columns = ['date', 'launch_date', 'ind_launch_date']\n",
    "    \n",
    "    for col in date_columns:\n",
    "        if col in X.columns:\n",
    "\n",
    "            X[col] = pd.to_datetime(X[col], errors='coerce')\n",
    "            \n",
    "            # Extract date features\n",
    "            X[col + '_year'] = X[col].dt.year.fillna(0).astype(int)  # Fill missing years with 0\n",
    "            X[col + '_month'] = X[col].dt.month.fillna(0).astype(int)\n",
    "            X[col + '_day'] = X[col].dt.day.fillna(0).astype(int)\n",
    "            X[col + '_dayofweek'] = X[col].dt.dayofweek.fillna(0).astype(int)\n",
    "            X[col + '_dayofyear'] = X[col].dt.dayofyear.fillna(0).astype(int)\n",
    "            X[col + '_is_month_start'] = X[col].dt.is_month_start.fillna(False).astype(int)\n",
    "            X[col + '_is_month_end'] = X[col].dt.is_month_end.fillna(False).astype(int)\n",
    "            X[col + '_is_quarter_start'] = X[col].dt.is_quarter_start.fillna(False).astype(int)\n",
    "            X[col + '_is_quarter_end'] = X[col].dt.is_quarter_end.fillna(False).astype(int)\n",
    "            X[col + '_is_year_start'] = X[col].dt.is_year_start.fillna(False).astype(int)\n",
    "            X[col + '_is_year_end'] = X[col].dt.is_year_end.fillna(False).astype(int)\n",
    "\n",
    "            X = X.drop(columns=[col])\n",
    "    \n",
    "    X = X.fillna(0) \n",
    "\n",
    "    numeric_cols = X.select_dtypes(include=['float64', 'int64']).columns.tolist()\n",
    "    categorical_cols = X.select_dtypes(include=['object']).columns.tolist()\n",
    "\n",
    "    return X, y, numeric_cols, categorical_cols"
   ]
  },
  {
   "cell_type": "code",
   "execution_count": null,
   "metadata": {},
   "outputs": [],
   "source": [
    "def mean_absolute_percentage_error(y_true, y_pred):\n",
    "    return np.mean(np.abs((y_true - y_pred) / y_true)) * 100\n",
    "\n",
    "def train_xgboost_model(\n",
    "    name, \n",
    "    train_df, \n",
    "    target_column='target', \n",
    "    cluster_column='cluster', #revisar.\n",
    "    save_model_path='best_xgboost_model.pkl', \n",
    "    mape_scorer=''\n",
    "):\n",
    "    mape_scorer = make_scorer(mean_absolute_percentage_error, greater_is_better=False)\n",
    "    save_model_path = f'../data/models/{name}.pkl'\n",
    "    X, y, numeric_cols, categorical_cols = preprocess_data_with_dates(train_df, target_column, cluster_column)\n",
    "    preprocessor = ColumnTransformer(\n",
    "        transformers=[\n",
    "            ('num', StandardScaler(), numeric_cols),  \n",
    "            ('cat', OneHotEncoder(handle_unknown='ignore'), categorical_cols) \n",
    "        ])\n",
    "    \n",
    "    model = xgb.XGBRegressor(objective='reg:absoluteerror', random_state=42)\n",
    "    pipeline = Pipeline(steps=[('preprocessor', preprocessor), ('model', model)])\n",
    "\n",
    "    param_grid = {\n",
    "        'model__n_estimators': [100, 300, 500],  \n",
    "        'model__learning_rate': [0.01, 0.05, 0.1, 0.2], \n",
    "        'model__max_depth': [3, 5, 10],  \n",
    "        'model__subsample': [0.8, 1.0], \n",
    "        'model__colsample_bytree': [0.8, 1.0],  \n",
    "        'model__min_child_weight': [1, 3, 5],  \n",
    "        'model__gamma': [0, 1],   \n",
    "    }\n",
    "    \n",
    "    grid_search = GridSearchCV(\n",
    "        pipeline, \n",
    "        param_grid, \n",
    "        cv=3, \n",
    "        scoring=mape_scorer, \n",
    "        n_jobs=-1, \n",
    "        verbose=1\n",
    "    )\n",
    "    \n",
    "    grid_search.fit(X, y)\n",
    "    best_model = grid_search.best_estimator_\n",
    "    joblib.dump(best_model, save_model_path)\n",
    "    \n",
    "    return best_model"
   ]
  },
  {
   "cell_type": "code",
   "execution_count": null,
   "metadata": {},
   "outputs": [
    {
     "name": "stdout",
     "output_type": "stream",
     "text": [
      "Fitting 3 folds for each of 864 candidates, totalling 2592 fits\n",
      "xgboost for cluster 0 completed.\n",
      "Fitting 3 folds for each of 864 candidates, totalling 2592 fits\n",
      "xgboost for cluster 1 completed.\n",
      "Fitting 3 folds for each of 864 candidates, totalling 2592 fits\n",
      "xgboost for cluster 2 completed.\n",
      "Fitting 3 folds for each of 864 candidates, totalling 2592 fits\n"
     ]
    },
    {
     "name": "stderr",
     "output_type": "stream",
     "text": [
      "c:\\anaconda3\\envs\\novartis\\Lib\\site-packages\\numpy\\ma\\core.py:2846: RuntimeWarning: invalid value encountered in cast\n",
      "  _data = np.array(data, dtype=dtype, copy=copy,\n"
     ]
    },
    {
     "name": "stdout",
     "output_type": "stream",
     "text": [
      "xgboost for cluster 3 completed.\n"
     ]
    }
   ],
   "source": [
    "\n",
    "name_list = ['zero','one','two','three','four','five','six','seven','eight']\n",
    "for i in range(4): # int in range must be n_clusters\n",
    "    best_model = train_xgboost_model(name_list[i],train_df=train_df_with_clusters[train_df_with_clusters.cluster==i])\n",
    "    print(f'xgboost for cluster {i} completed.')"
   ]
  },
  {
   "cell_type": "code",
   "execution_count": 40,
   "metadata": {},
   "outputs": [],
   "source": [
    "loaded_model = joblib.load(('../data/models/zero.pkl'))"
   ]
  },
  {
   "cell_type": "code",
   "execution_count": 56,
   "metadata": {},
   "outputs": [],
   "source": [
    "s_df = submission_df_with_clusters.copy()\n",
    "submission_array = np.zeros([len(template_df)])\n",
    "for i,row in template_df.iterrows():\n",
    "    X = s_df[(s_df.date==row.iloc[0])&(s_df.cluster_nl==row.iloc[1])].head()\n",
    "    loaded_model = joblib.load(('../data/models/'+name_list[X.cluster.values[0].astype(int)]+'.pkl'))\n",
    "    X_test,_,_,_ = preprocess_data_with_dates(X, target_column='target', cluster_column='cluster')\n",
    "    submission_array[i] = loaded_model.predict(X_test).item()\n",
    "template_df.prediction = submission_array"
   ]
  },
  {
   "cell_type": "code",
   "execution_count": 57,
   "metadata": {},
   "outputs": [],
   "source": [
    "template_df.to_csv('../data/outputs/try3_RR.csv',index=False)"
   ]
  },
  {
   "cell_type": "code",
   "execution_count": 66,
   "metadata": {},
   "outputs": [
    {
     "data": {
      "image/png": "[encoded data removed]",
      "text/plain": [
       "<Figure size 640x480 with 1 Axes>"
      ]
     },
     "metadata": {},
     "output_type": "display_data"
    }
   ],
   "source": [
    "brands = train_df_with_clusters.cluster_nl.unique()\n",
    "for id in brands:\n",
    "    ts=train_df_with_clusters[(train_df_with_clusters.cluster == 3)&(train_df_with_clusters.cluster_nl == id)]\n",
    "    ts = ts.set_index('date')\n",
    "    ts.target.plot()"
   ]
  },
  {
   "cell_type": "code",
   "execution_count": null,
   "metadata": {},
   "outputs": [],
   "source": []
  }
 ],
 "metadata": {
  "kernelspec": {
   "display_name": "novartis",
   "language": "python",
   "name": "python3"
  },
  "language_info": {
   "codemirror_mode": {
    "name": "ipython",
    "version": 3
   },
   "file_extension": ".py",
   "mimetype": "text/x-python",
   "name": "python",
   "nbconvert_exporter": "python",
   "pygments_lexer": "ipython3",
   "version": "3.12.7"
  }
 },
 "nbformat": 4,
 "nbformat_minor": 2
}
