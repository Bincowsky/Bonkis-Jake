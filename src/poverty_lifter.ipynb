{
 "cells": [
  {
   "cell_type": "code",
   "execution_count": null,
   "metadata": {},
   "outputs": [],
   "source": [
    "import pandas as pd\n",
    "import numpy as np\n",
    "from sklearn.model_selection import TimeSeriesSplit, RandomizedSearchCV\n",
    "from sklearn.pipeline import Pipeline\n",
    "from sklearn.compose import ColumnTransformer\n",
    "from sklearn.preprocessing import StandardScaler, OneHotEncoder\n",
    "from category_encoders import TargetEncoder\n",
    "from sklearn.impute import SimpleImputer\n",
    "import xgboost as xgb\n",
    "from sklearn.metrics import mean_squared_error, make_scorer\n",
    "from sklearn.preprocessing import FunctionTransformer\n",
    "from sklearn.base import BaseEstimator, TransformerMixin\n",
    "from sklearn.preprocessing import MultiLabelBinarizer\n",
    "import matplotlib.pyplot as plt\n",
    "import shap\n",
    "import warnings\n",
    "warnings.filterwarnings('ignore')"
   ]
  },
  {
   "cell_type": "code",
   "execution_count": null,
   "metadata": {},
   "outputs": [],
   "source": [
    "# Load data\n",
    "train_df = pd.read_csv('../data/raw/train_data.csv')\n",
    "submission_df = pd.read_csv('../data/raw/submission_data.csv')\n",
    "template_df = pd.read_csv('../data/processed/submission_template.csv')"
   ]
  },
  {
   "cell_type": "code",
   "execution_count": null,
   "metadata": {},
   "outputs": [],
   "source": [
    "# Replace placeholders with NaN\n",
    "train_df.replace([-1, -1.0, '-1', '-1.0'], np.nan, inplace=True)\n",
    "submission_df.replace([-1, -1.0, '-1', '-1.0'], np.nan, inplace=True)\n"
   ]
  },
  {
   "cell_type": "code",
   "execution_count": null,
   "metadata": {},
   "outputs": [],
   "source": [
    "# Convert date columns to datetime\n",
    "date_cols = [\"launch_date\", \"ind_launch_date\", \"date\"]\n",
    "for col in date_cols:\n",
    "    train_df[col] = pd.to_datetime(train_df[col], errors='coerce')\n",
    "    submission_df[col] = pd.to_datetime(submission_df[col], errors='coerce')\n"
   ]
  },
  {
   "cell_type": "code",
   "execution_count": null,
   "metadata": {},
   "outputs": [],
   "source": [
    "# Feature Engineering Functions\n",
    "def extract_date_features(df):\n",
    "    df['launch_year'] = df['launch_date'].dt.year\n",
    "    df['launch_month'] = df['launch_date'].dt.month\n",
    "    df['launch_day'] = df['launch_date'].dt.day\n",
    "    df['ind_launch_year'] = df['ind_launch_date'].dt.year\n",
    "    df['ind_launch_month'] = df['ind_launch_date'].dt.month\n",
    "    df['ind_launch_day'] = df['ind_launch_date'].dt.day\n",
    "    df['date_year'] = df['date'].dt.year\n",
    "    df['date_month'] = df['date'].dt.month\n",
    "    df['date_day'] = df['date'].dt.day\n",
    "    # Time since launch\n",
    "    # Calculate months_since_launch\n",
    "    df['months_since_launch'] = (\n",
    "        (df['date'].dt.year - df['launch_date'].dt.year) * 12 +\n",
    "        (df['date'].dt.month - df['launch_date'].dt.month)\n",
    "    ).fillna(0)\n",
    "    df['months_since_ind_launch'] = (\n",
    "        (df['date'].dt.year - df['ind_launch_date'].dt.year) * 12 +\n",
    "        (df['date'].dt.month - df['ind_launch_date'].dt.month)\n",
    "    ).fillna(0)   \n",
    "    \n",
    "    # Cyclical features\n",
    "    df['month_sin'] = np.sin(2 * np.pi * df['date_month'] / 12)\n",
    "    df['month_cos'] = np.cos(2 * np.pi * df['date_month'] / 12)\n",
    "    return df\n",
    "\n",
    "def create_market_features(df):\n",
    "    df['market_size'] = df['population'] * df['prev_perc']\n",
    "    df['affordability_index'] = df['che_pc_usd'] / df['price_month']\n",
    "    df['price_insurance_interaction'] = df['price_month'] * (1 - df['insurance_perc_che'])\n",
    "    return df\n",
    "\n",
    "# Handle 'indication' feature (pre multi-label encoding)\n",
    "def process_indication(df):\n",
    "    df['indication'] = df['indication'].apply(lambda x: eval(x) if pd.notnull(x) else [])\n",
    "    return df\n",
    "\n",
    "# Apply feature engineering functions\n",
    "train_df        = extract_date_features(train_df)\n",
    "submission_df   = extract_date_features(submission_df)\n",
    "train_df        = create_market_features(train_df)\n",
    "submission_df   = create_market_features(submission_df)\n",
    "train_df        = process_indication(train_df)\n",
    "submission_df   = process_indication(submission_df)"
   ]
  },
  {
   "cell_type": "raw",
   "metadata": {},
   "source": [
    "# Initialize MultiLabelBinarizer\n",
    "mlb = MultiLabelBinarizer()\n",
    "\n",
    "# Fit and transform the 'indication' column in training data\n",
    "indication_encoded_train = pd.DataFrame(\n",
    "    mlb.fit_transform(train_df['indication']),\n",
    "    columns=mlb.classes_,\n",
    "    index=train_df.index\n",
    ")\n",
    "\n",
    "# Transform the 'indication' column in submission data\n",
    "indication_encoded_submission = pd.DataFrame(\n",
    "    mlb.transform(submission_df['indication']),\n",
    "    columns=mlb.classes_,\n",
    "    index=submission_df.index\n",
    ")\n",
    "\n",
    "# Concatenate the encoded 'indication' features with the original DataFrame\n",
    "train_df = pd.concat([train_df, indication_encoded_train], axis=1)\n",
    "submission_df = pd.concat([submission_df, indication_encoded_submission], axis=1)\n",
    "\n",
    "# Drop the original 'indication' column\n",
    "train_df = train_df.drop('indication', axis=1)\n",
    "submission_df = submission_df.drop('indication', axis=1)  \n",
    "\n",
    "print(train_df.columns)\n"
   ]
  },
  {
   "cell_type": "code",
   "execution_count": null,
   "metadata": {},
   "outputs": [],
   "source": [
    "# Split the data into training and testing sets based on launch_date\n",
    "perc_train_samples = 0.8\n",
    "launches = train_df.groupby('cluster_nl')['launch_date'].first().reset_index()\n",
    "launches = launches.sort_values('launch_date')\n",
    "cutoff = int(len(launches) * perc_train_samples)\n",
    "cutoff_launch_date = launches.iloc[cutoff]['launch_date']\n",
    "train_cluster_nls = launches.iloc[:cutoff]['cluster_nl']\n",
    "test_cluster_nls = launches.iloc[cutoff:]['cluster_nl']\n",
    "\n",
    "train_data = train_df.loc[train_df['cluster_nl'].isin(train_cluster_nls)]\n",
    "test_data = train_df.loc[train_df['cluster_nl'].isin(test_cluster_nls)]\n",
    "\n",
    "# Separate features and target\n",
    "X_train = train_data.drop(columns=['target'])\n",
    "y_train = train_data['target']\n",
    "\n",
    "X_test = test_data.drop(columns=['target'])\n",
    "y_test = test_data['target']\n",
    "\n",
    "# Save cluster_nl and date for metric computation\n",
    "metric_df = test_data[['cluster_nl', 'date', 'target']].copy()"
   ]
  },
  {
   "cell_type": "code",
   "execution_count": null,
   "metadata": {},
   "outputs": [],
   "source": [
    "# Define columns\n",
    "numeric_features = [\n",
    "    'che_pc_usd', 'che_perc_gdp', 'insurance_perc_che', 'population', 'prev_perc', \n",
    "    'price_month', 'price_unit', 'public_perc_che', 'months_since_launch', \n",
    "    'months_since_ind_launch', 'market_size', 'affordability_index', \n",
    "    'price_insurance_interaction', 'month_sin', 'month_cos'\n",
    "]\n",
    "\n",
    "categorical_features_low = ['corporation', 'country', 'therapeutic_area']\n",
    "categorical_features_high = ['brand', 'drug_id']\n",
    "\n",
    "# Process 'indication' with MultiLabelBinarizer\n",
    "class IndicationTransformer(BaseEstimator, TransformerMixin):\n",
    "    def __init__(self):\n",
    "        self.mlb = MultiLabelBinarizer(sparse_output=False)\n",
    "        \n",
    "    def fit(self, X, y=None):\n",
    "        self.mlb.fit(X['indication'])\n",
    "        return self\n",
    "    \n",
    "    def transform(self, X):\n",
    "        indication_encoded = self.mlb.transform(X['indication'])\n",
    "        indication_df = pd.DataFrame(indication_encoded, columns=self.mlb.classes_, index=X.index)\n",
    "        X = X.join(indication_df)\n",
    "        X = X.drop(columns=['indication'])\n",
    "        return X\n",
    "\n",
    "# Define custom transformer for target encoding within ColumnTransformer\n",
    "class TargetEncodingTransformer(BaseEstimator, TransformerMixin):\n",
    "    def __init__(self, cols=None):\n",
    "        self.cols = cols\n",
    "        self.encoders = {}\n",
    "        \n",
    "    def fit(self, X, y):\n",
    "        for col in self.cols:\n",
    "            encoder = TargetEncoder()\n",
    "            encoder.fit(X[col], y)\n",
    "            self.encoders[col] = encoder\n",
    "        return self\n",
    "    \n",
    "    def transform(self, X):\n",
    "        X_transformed = X.copy()\n",
    "        for col in self.cols:\n",
    "            X_transformed[col] = self.encoders[col].transform(X[col])\n",
    "        return X_transformed\n"
   ]
  },
  {
   "cell_type": "code",
   "execution_count": null,
   "metadata": {},
   "outputs": [],
   "source": [
    "# Preprocessing pipelines\n",
    "numeric_transformer = Pipeline(steps=[\n",
    "    (\"imputer\", SimpleImputer(strategy=\"median\"))\n",
    "])\n",
    "\n",
    "categorical_transformer_low = Pipeline(steps=[\n",
    "    (\"imputer\", SimpleImputer(strategy=\"most_frequent\")),\n",
    "    (\"onehot\", OneHotEncoder(handle_unknown=\"ignore\", sparse_output=False))\n",
    "])\n",
    "\n",
    "categorical_transformer_high = Pipeline(steps=[\n",
    "    (\"imputer\", SimpleImputer(strategy=\"most_frequent\")),\n",
    "    (\"target_encoder\", TargetEncoder())\n",
    "])\n",
    "\n",
    "# Combine all preprocessing steps\n",
    "preprocessor = ColumnTransformer(\n",
    "    transformers=[\n",
    "        (\"num\", numeric_transformer, numeric_features),\n",
    "        (\"cat_low\", categorical_transformer_low, categorical_features_low),\n",
    "        (\"cat_high\", categorical_transformer_high, categorical_features_high)\n",
    "    ]\n",
    ")\n",
    "\n",
    "# Full pipeline\n",
    "pipeline = Pipeline(steps=[\n",
    "    (\"indication_transformer\", IndicationTransformer()),\n",
    "    (\"preprocessor\", preprocessor),\n",
    "    # Remove StandardScaler if not needed\n",
    "    # (\"scaler\", StandardScaler()),\n",
    "    (\"regressor\", xgb.XGBRegressor(objective=\"reg:squarederror\", random_state=42))\n",
    "])"
   ]
  },
  {
   "cell_type": "code",
   "execution_count": null,
   "metadata": {},
   "outputs": [],
   "source": [
    "# Custom CYME metric\n",
    "def cyme_metric(y_true, y_pred):\n",
    "    ape = np.abs((y_true - y_pred) / y_true)\n",
    "    ape = ape.replace([np.inf, -np.inf], np.nan).dropna()\n",
    "    median_ape = np.median(ape)\n",
    "    return median_ape\n",
    "\n",
    "cyme_scorer = make_scorer(cyme_metric, greater_is_better=False)"
   ]
  },
  {
   "cell_type": "code",
   "execution_count": null,
   "metadata": {},
   "outputs": [],
   "source": [
    "# Hyperparameter tuning\n",
    "param_dist = {\n",
    "    \"regressor__n_estimators\": [300],\n",
    "    \"regressor__learning_rate\": [0.01, 0.03, 0.1],\n",
    "    \"regressor__max_depth\": [5, 7, 9],\n",
    "    \"regressor__subsample\": [0.7, 0.9, 1.0],\n",
    "    \"regressor__colsample_bytree\": [0.7, 0.9, 1.0]\n",
    "}\n",
    "\n",
    "# Time-based cross-validation\n",
    "tscv = TimeSeriesSplit(n_splits=3)\n",
    "\n",
    "random_search = RandomizedSearchCV(\n",
    "    pipeline, \n",
    "    param_distributions=param_dist, \n",
    "    n_iter=20, \n",
    "    cv=tscv, \n",
    "    scoring=cyme_scorer, \n",
    "    verbose=2, \n",
    "    random_state=42,\n",
    "    n_jobs=-1\n",
    ")\n",
    "\n",
    "# Fit the model\n",
    "random_search.fit(X_train, y_train)\n"
   ]
  },
  {
   "cell_type": "code",
   "execution_count": null,
   "metadata": {},
   "outputs": [],
   "source": [
    "best_model = random_search.best_estimator_\n",
    "\n",
    "# Evaluate the model\n",
    "def predict_and_measure_performance(model, X_test, y_test):\n",
    "    y_pred = model.predict(X_test)\n",
    "    mse = mean_squared_error(y_test, y_pred)\n",
    "    print(f\"MSE:  {mse}\")\n",
    "    # Assuming unaveraged_CYME is defined appropriately\n",
    "    cyme = cyme_metric(y_test, y_pred)\n",
    "    print(f\"CYME: {cyme}\")\n",
    "    return mse, cyme\n",
    "\n",
    "mse, cyme = predict_and_measure_performance(best_model, X_test, y_test)\n"
   ]
  },
  {
   "cell_type": "code",
   "execution_count": null,
   "metadata": {},
   "outputs": [],
   "source": [
    "# Feature Importance using SHAP\n",
    "xgb_regressor = best_model.named_steps[\"regressor\"]\n",
    "\n",
    "# Prepare data for SHAP\n",
    "X_test_transformed = best_model.named_steps[\"preprocessor\"].transform(X_test)\n",
    "explainer = shap.TreeExplainer(xgb_regressor)\n",
    "shap_values = explainer.shap_values(X_test_transformed)\n",
    "\n",
    "# Plot summary plot\n",
    "feature_names = best_model.named_steps[\"preprocessor\"].get_feature_names_out()\n",
    "shap.summary_plot(shap_values, X_test_transformed, feature_names=feature_names)\n"
   ]
  },
  {
   "cell_type": "markdown",
   "metadata": {},
   "source": [
    "## Prepare submission"
   ]
  },
  {
   "cell_type": "code",
   "execution_count": null,
   "metadata": {},
   "outputs": [],
   "source": [
    "# Predict on submission data\n",
    "predictions = best_model.predict(submission_df)"
   ]
  },
  {
   "cell_type": "code",
   "execution_count": null,
   "metadata": {},
   "outputs": [],
   "source": [
    "submission_df"
   ]
  },
  {
   "cell_type": "code",
   "execution_count": null,
   "metadata": {},
   "outputs": [],
   "source": [
    "# Merge predictions with template\n",
    "submission_df['prediction'] = predictions\n",
    "submission_df['date'] = pd.to_datetime(submission_df['date'], errors='coerce')\n",
    "template_df['date'] = pd.to_datetime(template_df['date'], errors='coerce')\n",
    "template_df = template_df.drop(columns=['prediction'])\n",
    "final_submission = template_df.merge(\n",
    "    submission_df[['cluster_nl', 'date', 'prediction']],\n",
    "    on=['cluster_nl', 'date'],\n",
    "    how='left'\n",
    ")"
   ]
  },
  {
   "cell_type": "code",
   "execution_count": null,
   "metadata": {},
   "outputs": [],
   "source": [
    "final_submission"
   ]
  },
  {
   "cell_type": "code",
   "execution_count": null,
   "metadata": {},
   "outputs": [],
   "source": [
    "# Fill missing predictions with zeros or appropriate values\n",
    "final_submission['prediction'] = final_submission['prediction'].fillna(0)\n",
    "\n",
    "# Save the submission file\n",
    "final_submission[['cluster_nl', 'date', 'prediction']].to_csv('../data/outputs/final_submission.csv', index=False)\n"
   ]
  }
 ],
 "metadata": {
  "kernelspec": {
   "display_name": "venv",
   "language": "python",
   "name": "python3"
  },
  "language_info": {
   "codemirror_mode": {
    "name": "ipython",
    "version": 3
   },
   "file_extension": ".py",
   "mimetype": "text/x-python",
   "name": "python",
   "nbconvert_exporter": "python",
   "pygments_lexer": "ipython3",
   "version": "3.12.7"
  }
 },
 "nbformat": 4,
 "nbformat_minor": 2
}
